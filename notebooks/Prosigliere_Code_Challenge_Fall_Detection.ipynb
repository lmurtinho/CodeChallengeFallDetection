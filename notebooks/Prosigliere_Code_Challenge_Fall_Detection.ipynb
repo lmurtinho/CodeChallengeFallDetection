{
  "nbformat": 4,
  "nbformat_minor": 0,
  "metadata": {
    "colab": {
      "provenance": [],
      "authorship_tag": "ABX9TyPOFnd/PaxBAFfLTr8S6QiH",
      "include_colab_link": true
    },
    "kernelspec": {
      "name": "python3",
      "display_name": "Python 3"
    },
    "language_info": {
      "name": "python"
    }
  },
  "cells": [
    {
      "cell_type": "markdown",
      "metadata": {
        "id": "view-in-github",
        "colab_type": "text"
      },
      "source": [
        "<a href=\"https://colab.research.google.com/github/lmurtinho/CodeChallengeFallDetection/blob/main/notebooks/Prosigliere_Code_Challenge_Fall_Detection.ipynb\" target=\"_parent\"><img src=\"https://colab.research.google.com/assets/colab-badge.svg\" alt=\"Open In Colab\"/></a>"
      ]
    },
    {
      "cell_type": "markdown",
      "source": [
        "# Prosigliere Coding Challenge: Fall Detection\n",
        "\n",
        "This Google Colab notebook presents my solution to the Prosigliere Coding Challenge, the full description of which can be found [here](https://github.com/Prosigliere/coding-challenges/blob/main/AI_ML_Challenge.md). The main goal of the challenge is to predict, based on body sensor data, whether a fall took place during a trial. The data set is composed of 480 trials, with 8 subjects performing an average of 60 trials each."
      ],
      "metadata": {
        "id": "QcmXh2S_B16y"
      }
    },
    {
      "cell_type": "markdown",
      "source": [
        "## Data Loading and Preprocessing\n",
        "\n",
        "The first task is to load and process the data. According to the project's description, the full dataset (which can be found [here](https://drive.google.com/drive/folders/1Rr5eI8btUAKqDjmDc2vxRyu0C0yRX1Xl)) is thus organized:\n",
        "\n",
        "- Each folder in the root directory corresponds to a subject.\n",
        "- Each subfolder in a subject folder corresponds to a type of trial: `ADLs`, `Falls`, and `Near_Falls`.\n",
        "- Each file (`.xlsx`) contains sensor data for a single trial.\n",
        "\n",
        "I saved the files in a folder on my Google Drive, so the first step is to mount the drive and define the data location. I also added a folder to cache the prepared data to avoid reprocessing the raw files."
      ],
      "metadata": {
        "id": "5pecB342Cv-J"
      }
    },
    {
      "cell_type": "code",
      "source": [
        "from google.colab import drive\n",
        "drive.mount('/content/drive')\n",
        "\n",
        "ROOT = '/content/drive/My Drive/prosigliere_challenge'\n",
        "data_path = f'{ROOT}/data'\n",
        "cache_dir = f'{data_path}/cached'"
      ],
      "metadata": {
        "colab": {
          "base_uri": "https://localhost:8080/"
        },
        "id": "uy14kHFLDlZ1",
        "outputId": "2d32b86d-9c30-41cf-ac8d-8832aa368aca"
      },
      "execution_count": 1,
      "outputs": [
        {
          "output_type": "stream",
          "name": "stdout",
          "text": [
            "Mounted at /content/drive\n"
          ]
        }
      ]
    },
    {
      "cell_type": "markdown",
      "source": [
        "### Data Loading\n",
        "\n",
        "The `load_data` function below recursively finds all `.xslx` files in the data folder path of `subject/type_of_trial` and stores them in the `all_trials` dict along with some metadata (including the subject id and the trial type)."
      ],
      "metadata": {
        "id": "Ca1Yg8AWC2Qc"
      }
    },
    {
      "cell_type": "code",
      "execution_count": 2,
      "metadata": {
        "colab": {
          "base_uri": "https://localhost:8080/"
        },
        "id": "7moLzBg1Bp9e",
        "outputId": "002c37ce-5058-45c2-b519-c9d387c985f0"
      },
      "outputs": [
        {
          "output_type": "stream",
          "name": "stdout",
          "text": [
            "All cached files found.\n"
          ]
        }
      ],
      "source": [
        "import os\n",
        "import glob\n",
        "import pandas as pd\n",
        "from tqdm import tqdm\n",
        "\n",
        "\n",
        "def load_data(data_path):\n",
        "  \"\"\"\n",
        "  Load and organize sensor data from Excel files by trials.\n",
        "  Args:\n",
        "      data_path: The path to the root directory containing subject folders.\n",
        "  Returns:\n",
        "      A list of dictionaries, where each dictionary represents a trial\n",
        "      and contains the sensor data (as a pandas DataFrame) along with\n",
        "      metadata like subject ID, trial type, file name, and file path.\n",
        "  Raises:\n",
        "      ValueError: If no subject folders are found in the specified data_path.\n",
        "  \"\"\"\n",
        "  print(\"Loading trial-based data...\")\n",
        "  all_trials = []\n",
        "\n",
        "  # Get all subject folders\n",
        "  subject_folders = glob.glob(os.path.join(data_path, 'sub*'))\n",
        "\n",
        "  if not subject_folders:\n",
        "      raise ValueError(f\"No subject folders found in {data_path}\")\n",
        "\n",
        "  for subject_folder in subject_folders:\n",
        "      subject_id = os.path.basename(subject_folder)\n",
        "\n",
        "      # Process each trial type\n",
        "      for trial_type in ['ADLs', 'Falls', 'Near_Falls']:\n",
        "          # Check if the trial folder exists\n",
        "          trial_folder = os.path.join(subject_folder, trial_type)\n",
        "          if os.path.exists(trial_folder):\n",
        "              excel_files = glob.glob(os.path.join(trial_folder, '*.xlsx'))\n",
        "\n",
        "              for file_path in excel_files:\n",
        "                  try:\n",
        "                      df = pd.read_excel(file_path)\n",
        "\n",
        "                      # Store each trial as a separate entity\n",
        "                      trial_info = {\n",
        "                          'data': df,\n",
        "                          'subject_id': subject_id,\n",
        "                          'trial_type': trial_type,\n",
        "                          'file_name': os.path.basename(file_path),\n",
        "                          'file_path': file_path\n",
        "                      }\n",
        "                      all_trials.append(trial_info)\n",
        "\n",
        "                  except Exception as e:\n",
        "                      print(f\"Error loading {file_path}: {e}\")\n",
        "  return all_trials\n",
        "\n",
        "def check_cached(cache_dir):\n",
        "  \"\"\"Checks if the cached data files exist in the cache directory.\n",
        "  Args:\n",
        "    cache_dir: The path to the cache directory.\n",
        "  Returns:\n",
        "    True if all cached files exist, False otherwise.\n",
        "  \"\"\"\n",
        "  required_files = ['X.pkl', 'y.pkl', 'subs.pkl']\n",
        "  for filename in required_files:\n",
        "    if not os.path.exists(os.path.join(cache_dir, filename)):\n",
        "      print(f'Missing cached file: {filename}')\n",
        "      return False\n",
        "  print('All cached files found.')\n",
        "  return True\n",
        "\n",
        "data_cached = check_cached(cache_dir) if cache_dir else False\n",
        "\n",
        "if not data_cached:\n",
        "  all_trials = load_data(data_path)"
      ]
    },
    {
      "cell_type": "markdown",
      "source": [
        "## Data Preprocessing\n",
        "\n",
        "From the challenge description, each data file has 64 columns: a timestamp in the `Time` column and 9 features for each of the seven body sensors used in the trials (right and left ankle, right and left thigh, head, sternum, and waist). The 9 features from a sensor indicate the acceleration, angular velocity, and magnetic field registered by the sensor at that point in time.\n",
        "\n",
        "The `calculate_magnitude` and `engineer_features` functions below add more features to the dataset: for each of the 3 types of features (acceleration, angular velocity, and magnetic field), the function calculates the *magnitude* of the 3d vector whose components are the values for that feature along the X, Y, and Z axis at a specific timestamp. These magnitude features may help with the noise in sensor data, as sensor orientation may affect values along each axis but wouldn't affect the magnitude values."
      ],
      "metadata": {
        "id": "OBGt-io7FMjm"
      }
    },
    {
      "cell_type": "code",
      "source": [
        "import numpy as np\n",
        "\n",
        "def calculate_magnitude(data: pd.DataFrame, axis_cols: list[str]) -> pd.Series:\n",
        "  \"\"\"\n",
        "  Calculate the magnitude of a 3D vector from its components provided in a pandas DataFrame.\n",
        "  Args:\n",
        "    data: A pandas DataFrame containing the vector component data.\n",
        "    axis_cols: A list of three strings, the column names in `data` corresponding\n",
        "               to the x, y, and z components of the vector.\n",
        "  Returns:\n",
        "    A pandas Series containing the calculated magnitudes for each row in `data`.\n",
        "  \"\"\"\n",
        "  return np.sqrt(\n",
        "      data[axis_cols[0]]**2 +\n",
        "      data[axis_cols[1]]**2 +\n",
        "      data[axis_cols[2]]**2\n",
        "  )\n",
        "\n",
        "def engineer_features(\n",
        "    data: pd.DataFrame,\n",
        "    sensor_locations: list[str] = [\n",
        "        'r.ankle', 'l.ankle', 'r.thigh', 'l.thigh', 'head', 'sternum', 'waist'],\n",
        "    features: list[str] = ['Acceleration','Angular Velocity', 'Magnetic Field']\n",
        "    ) -> pd.DataFrame:\n",
        "    \"\"\"\n",
        "    Creates engineered features (magnitude) from raw sensor data.\n",
        "    Args:\n",
        "        data: A Pandas DataFrame containing the raw sensor data.\n",
        "        sensor_locations: A list of sensor locations to process.\n",
        "        features: A list of feature types to process.\n",
        "    Returns:\n",
        "        A Pandas DataFrame with the engineered magnitude features added.\n",
        "    \"\"\"\n",
        "    for location in sensor_locations:\n",
        "        for feature in features:\n",
        "          cols = [col for col in data.columns\n",
        "                  if location in col and feature in col]\n",
        "          if len(cols) == 3:\n",
        "            data[f'{location}_{feature}_magnitude'] = calculate_magnitude(data, cols)\n",
        "    return data"
      ],
      "metadata": {
        "id": "360LS6_6JdER"
      },
      "execution_count": 3,
      "outputs": []
    },
    {
      "cell_type": "code",
      "source": [
        "from tqdm import tqdm\n",
        "\n",
        "if not data_cached:\n",
        "  for trial in all_trials:\n",
        "    trial['processed_data'] = engineer_features(trial['data'])"
      ],
      "metadata": {
        "id": "LriGjY6uLvOv"
      },
      "execution_count": 4,
      "outputs": []
    },
    {
      "cell_type": "markdown",
      "source": [
        "## Model Development\n",
        "\n",
        "### Statistical Approach\n",
        "\n",
        "The first approach I thought about for this challenge, to serve as a baseline for more complex models, is a classification model that takes as inputs not the time series but statistical sumamries from them. The `create_statistical_features` function below calculates 12 statistics for each feature (including the magnitude features engineered above), and these are calculated for each of the 480 trials in the dataset."
      ],
      "metadata": {
        "id": "6y7V4PK8wNbm"
      }
    },
    {
      "cell_type": "code",
      "source": [
        "def create_statistical_features(data: pd.DataFrame) -> pd.DataFrame:\n",
        "  \"\"\"\n",
        "  Calculates a comprehensive set of statistical features for each column in a DataFrame,\n",
        "  excluding the 'Time' column.\n",
        "  Args:\n",
        "    data: A pandas DataFrame containing the time series data for a single trial.\n",
        "  Returns:\n",
        "    A pandas DataFrame with a single row containing the calculated statistical\n",
        "    features.\n",
        "  \"\"\"\n",
        "  stats = {}\n",
        "\n",
        "  for col in data.columns:\n",
        "    if col == 'Time':\n",
        "      continue\n",
        "\n",
        "    stats[f'{col}_mean'] = np.mean(data[col])\n",
        "    stats[f'{col}_std'] = np.std(data[col])\n",
        "    stats[f'{col}_min'] = np.min(data[col])\n",
        "    stats[f'{col}_max'] = np.max(data[col])\n",
        "    stats[f'{col}_median'] = np.median(data[col])\n",
        "    stats[f'{col}_25_percentile'] = np.percentile(data[col], 25)\n",
        "    stats[f'{col}_75_percentile'] = np.percentile(data[col], 75)\n",
        "    stats[f'{col}_var'] = np.var(data[col])\n",
        "    stats[f'{col}_mean_abs_diff'] = np.mean(np.abs(np.diff(data[col])))\n",
        "    stats[f'{col}_std_diff'] = np.std(np.diff(data[col]))\n",
        "    stats[f'{col}_zero_crossings'] = len(np.where(np.diff(np.sign(np.diff(data[col]))))[0])\n",
        "    stats[f'{col}_outliers'] = np.sum(data[col] > np.mean(data[col]) + 2*np.std(data[col]))\n",
        "\n",
        "  stat_data = pd.DataFrame([stats])\n",
        "  return stat_data\n",
        "\n",
        "if not data_cached:\n",
        "  for trial in tqdm(all_trials):\n",
        "    trial['stat_data'] = create_statistical_features(trial['processed_data'])"
      ],
      "metadata": {
        "id": "PfCImfUSNs8k"
      },
      "execution_count": 5,
      "outputs": []
    },
    {
      "cell_type": "markdown",
      "source": [
        "#### Dataset definition and train/test split\n",
        "\n",
        "For the statistical approach, the input will be a 2d matrix where each row is a trial and each column is one of the statistical features calculated above. I'll split the data between training, validation, and testing subsets by subject to avoid data leakage; there could be some similarities between two trials from the same subject the model could tak advantage of, so it's better to keep all data from a given subject in the same subset."
      ],
      "metadata": {
        "id": "aJUqfCKsw7aT"
      }
    },
    {
      "cell_type": "code",
      "source": [
        "# put together all stat_data in a single dataframe\n",
        "\n",
        "import pickle\n",
        "\n",
        "if data_cached:\n",
        "  with open(f'{cache_dir}/X.pkl', 'rb') as f:\n",
        "    X = pickle.load(f)\n",
        "  with open(f'{cache_dir}/y.pkl', 'rb') as f:\n",
        "    y = pickle.load(f)\n",
        "  with open(f'{cache_dir}/subs.pkl', 'rb') as f:\n",
        "    subs = pickle.load(f)\n",
        "  print('Data loaded from cache')\n",
        "else:\n",
        "  X = pd.concat([trial['stat_data'] for trial in all_trials])\\\n",
        "    .reset_index(drop=True)\n",
        "  y = pd.Series([1 if trial['trial_type'] == 'Falls' else 0\n",
        "                for trial in all_trials])\n",
        "  subs = pd.Series([trial['subject_id'] for trial in all_trials])\n",
        "\n",
        "  # save to cache_dir\n",
        "  if cache_dir:\n",
        "\n",
        "    # Ensure the directory exists\n",
        "    os.makedirs(cache_dir, exist_ok=True)\n",
        "\n",
        "    # Save the data using pickle\n",
        "    with open(f'{cache_dir}/X.pkl', 'wb') as f:\n",
        "        pickle.dump(X, f)\n",
        "\n",
        "    with open(f'{cache_dir}/y.pkl', 'wb') as f:\n",
        "        pickle.dump(y, f)\n",
        "\n",
        "    with open(f'{cache_dir}/subs.pkl', 'wb') as f:\n",
        "        pickle.dump(subs, f)\n",
        "\n",
        "    print(f\"Data saved successfully to {cache_dir}\")"
      ],
      "metadata": {
        "colab": {
          "base_uri": "https://localhost:8080/"
        },
        "id": "QbUlzP1UMEMH",
        "outputId": "f755e420-8469-4c4d-d964-1d8abbe3cadf"
      },
      "execution_count": 6,
      "outputs": [
        {
          "output_type": "stream",
          "name": "stdout",
          "text": [
            "Data loaded from cache\n"
          ]
        }
      ]
    },
    {
      "cell_type": "code",
      "source": [
        "from sklearn.model_selection import train_test_split\n",
        "from typing import Tuple\n",
        "\n",
        "def subject_wise_split(\n",
        "    subs: pd.Series,\n",
        "    test_size: float = 0.2,\n",
        "    val_size: float = 0.2,\n",
        "    random_state: int = 42\n",
        ") -> Tuple[np.ndarray, np.ndarray, np.ndarray]:\n",
        "  \"\"\"\n",
        "  Splits trial indices into training, validation, and testing sets based on unique subjects,\n",
        "  ensuring that all trials from a given subject are allocated to the same data split.\n",
        "  Args:\n",
        "      subs: A pandas Series where each element represents the subject ID for a\n",
        "            corresponding trial.\n",
        "      test_size: The proportion of the dataset to include in the test split.\n",
        "                  Should be between 0.0 and 1.0.\n",
        "      val_size: The proportion of the training set to include in the validation\n",
        "                split after the initial train/test split. Should be between 0.0 and 1.0.\n",
        "      random_state: Random seed for reproducibility.\n",
        "  Returns:\n",
        "      A tuple containing three numpy arrays:\n",
        "      - train_indices: Indices of trials belonging to the training set.\n",
        "      - val_indices: Indices of trials belonging to the validation set.\n",
        "      - test_indices: Indices of trials belonging to the testing set.\n",
        "  \"\"\"\n",
        "  # Get and split unique subjects\n",
        "  subjects = sorted(subs.unique())\n",
        "  train_subjects, test_subjects = train_test_split(\n",
        "      subjects, test_size=test_size,\n",
        "      random_state=random_state\n",
        "  )\n",
        "  train_subjects, val_subjects = train_test_split(\n",
        "      train_subjects, test_size=val_size/(1-test_size),\n",
        "      random_state=random_state\n",
        "  )\n",
        "\n",
        "  # Get indices for train, validation and test sets according to subs\n",
        "  train_indices = subs[subs.isin(train_subjects)].index\n",
        "  val_indices = subs[subs.isin(val_subjects)].index\n",
        "  test_indices = subs[subs.isin(test_subjects)].index\n",
        "\n",
        "  # Shuffle indices\n",
        "  train_indices = np.random.permutation(train_indices)\n",
        "  val_indices = np.random.permutation(val_indices)\n",
        "  test_indices = np.random.permutation(test_indices)\n",
        "\n",
        "  return train_indices, val_indices, test_indices\n",
        "\n",
        "train_indices, val_indices, test_indices = subject_wise_split(subs)\n",
        "\n",
        "X_train = X.loc[train_indices]\n",
        "X_val = X.loc[val_indices]\n",
        "X_test = X.loc[test_indices]\n",
        "\n",
        "y_train = y.loc[train_indices]\n",
        "y_val = y.loc[val_indices]\n",
        "y_test = y.loc[test_indices]\n",
        "\n",
        "subs_train = subs.loc[train_indices]\n",
        "subs_val = subs.loc[val_indices]\n",
        "subs_test = subs.loc[test_indices]\n",
        "\n",
        "# Check all trials from each subject are in the same subset:\n",
        "print(f'Train subjects: {sorted(subs_train.unique())}')\n",
        "print(f'Validation subjects: {sorted(subs_val.unique())}')\n",
        "print(f'Test subjects: {sorted(subs_test.unique())}')"
      ],
      "metadata": {
        "colab": {
          "base_uri": "https://localhost:8080/"
        },
        "id": "BJ8sIegJRggt",
        "outputId": "6b4d686d-c0c2-4300-abef-5a4fcc904c6b"
      },
      "execution_count": 7,
      "outputs": [
        {
          "output_type": "stream",
          "name": "stdout",
          "text": [
            "Train subjects: ['sub3', 'sub4', 'sub5', 'sub7']\n",
            "Validation subjects: ['sub1', 'sub8']\n",
            "Test subjects: ['sub2', 'sub6']\n"
          ]
        }
      ]
    },
    {
      "cell_type": "markdown",
      "source": [
        "#### Data normalization\n",
        "\n",
        "I'll also standardize the data to avoid favorizing certain features over others due to scale differences, and also to improve model performance when using methods such as gradient descent."
      ],
      "metadata": {
        "id": "0AzCK7yIz9br"
      }
    },
    {
      "cell_type": "code",
      "source": [
        "from sklearn.preprocessing import StandardScaler, MinMaxScaler, RobustScaler\n",
        "\n",
        "def normalize_features(\n",
        "    X_train: pd.DataFrame,\n",
        "    X_val: pd.DataFrame,\n",
        "    X_test: pd.DataFrame,\n",
        "    scaler: StandardScaler | MinMaxScaler | RobustScaler\n",
        ") -> Tuple[pd.DataFrame, pd.DataFrame, pd.DataFrame]:\n",
        "  \"\"\"\n",
        "  Normalizes the feature sets (train, validation, and test) using a given scaler,\n",
        "  fitted on training data only to prevent data leakage.\n",
        "  Args:\n",
        "      X_train: The training feature set (pandas DataFrame).\n",
        "      X_val: The validation feature set (pandas DataFrame).\n",
        "      X_test: The test feature set (pandas DataFrame).\n",
        "      scaler: a scikit-learn scaler (StandardScaler, MinMaxScaler)\n",
        "              to be used for normalization.\n",
        "  Returns:\n",
        "      A tuple containing three pandas DataFrames:\n",
        "      - The normalized training feature set.\n",
        "      - The normalized validation feature set.\n",
        "      - The normalized test feature set.\n",
        "  \"\"\"\n",
        "  scaler.fit(X_train)\n",
        "  return (\n",
        "      scaler.transform(X_train),\n",
        "      scaler.transform(X_val),\n",
        "      scaler.transform(X_test)\n",
        "  )\n",
        "\n",
        "scaler = StandardScaler()\n",
        "X_train_norm, X_val_norm, X_test_norm = normalize_features(\n",
        "    X_train, X_val, X_test, scaler\n",
        ")\n",
        "X_train_norm = pd.DataFrame(X_train_norm, columns=X.columns)\n",
        "X_val_norm = pd.DataFrame(X_val_norm, columns=X.columns)\n",
        "X_test_norm = pd.DataFrame(X_test_norm, columns=X.columns)"
      ],
      "metadata": {
        "id": "GkdCA2PZTJf2"
      },
      "execution_count": 8,
      "outputs": []
    },
    {
      "cell_type": "markdown",
      "source": [
        "#### Model training\n",
        "\n",
        "In the cell below I'm training and testing two models (a random forest and a logistic regression) using the statistical data."
      ],
      "metadata": {
        "id": "4NFKv2Z01evw"
      }
    },
    {
      "cell_type": "code",
      "source": [
        "from sklearn.ensemble import RandomForestClassifier\n",
        "from sklearn.linear_model import LogisticRegression\n",
        "from sklearn.metrics import accuracy_score, precision_score, recall_score, f1_score, confusion_matrix\n",
        "from typing import Dict, Any, Tuple\n",
        "import numpy as np\n",
        "\n",
        "\n",
        "def evaluate_model(model, X_test: np.ndarray, y_test: np.ndarray, model_name: str) -> Dict[str, Any]:\n",
        "    \"\"\"\n",
        "    Evaluate a trained model and return comprehensive metrics.\n",
        "\n",
        "    Args:\n",
        "        model: Trained sklearn model\n",
        "        X_test: Test features\n",
        "        y_test: Test labels\n",
        "        model_name: Name of the model for display\n",
        "\n",
        "    Returns:\n",
        "        Dictionary containing all evaluation metrics\n",
        "    \"\"\"\n",
        "    predictions = model.predict(X_test)\n",
        "    probabilities = model.predict_proba(X_test)[:, 1] if hasattr(model, 'predict_proba') else None\n",
        "\n",
        "    print(f\"\\n{model_name} Confusion Matrix:\")\n",
        "    print(confusion_matrix(y_test, predictions))\n",
        "    print(f\"{model_name} F1 score: {f1_score(y_test, predictions):.4f}\")\n",
        "\n",
        "    return {\n",
        "        'model': model,\n",
        "        'accuracy': accuracy_score(y_test, predictions),\n",
        "        'precision': precision_score(y_test, predictions),\n",
        "        'recall': recall_score(y_test, predictions),\n",
        "        'f1_score': f1_score(y_test, predictions),\n",
        "        'predictions': predictions,\n",
        "        'probabilities': probabilities,\n",
        "        'confusion_matrix': confusion_matrix(y_test, predictions)\n",
        "    }\n",
        "\n",
        "\n",
        "def train_single_model(model, X_train: np.ndarray, y_train: np.ndarray,\n",
        "                      X_test: np.ndarray, y_test: np.ndarray, model_name: str) -> Dict[str, Any]:\n",
        "    \"\"\"\n",
        "    Train a single model and evaluate it.\n",
        "\n",
        "    Args:\n",
        "        model: Untrained sklearn model\n",
        "        X_train: Training features\n",
        "        y_train: Training labels\n",
        "        X_test: Test features\n",
        "        y_test: Test labels\n",
        "        model_name: Name of the model for display\n",
        "\n",
        "    Returns:\n",
        "        Dictionary containing model and evaluation metrics\n",
        "    \"\"\"\n",
        "    print(f\"\\nTraining {model_name}...\")\n",
        "    model.fit(X_train, y_train)\n",
        "\n",
        "    return evaluate_model(model, X_test, y_test, model_name)\n",
        "\n",
        "\n",
        "def get_model_configs() -> Dict[str, Any]:\n",
        "    \"\"\"\n",
        "    Get configuration for different models.\n",
        "\n",
        "    Returns:\n",
        "        Dictionary of model configurations\n",
        "    \"\"\"\n",
        "    return {\n",
        "        'Random Forest': RandomForestClassifier(\n",
        "            n_estimators=100,\n",
        "            random_state=42,\n",
        "            class_weight='balanced'\n",
        "        ),\n",
        "        'Logistic Regression': LogisticRegression(\n",
        "            random_state=42,\n",
        "            class_weight='balanced',\n",
        "            max_iter=1000\n",
        "        )\n",
        "    }\n",
        "\n",
        "\n",
        "def train_statistical_approach(X_train: np.ndarray, y_train: np.ndarray,\n",
        "                             X_test: np.ndarray, y_test: np.ndarray) -> Dict[str, Dict[str, Any]]:\n",
        "    \"\"\"\n",
        "    Train multiple models using statistical features.\n",
        "\n",
        "    Args:\n",
        "        X_train: Training features\n",
        "        y_train: Training labels\n",
        "        X_test: Test features\n",
        "        y_test: Test labels\n",
        "\n",
        "    Returns:\n",
        "        Dictionary containing results for each model\n",
        "    \"\"\"\n",
        "    results = {}\n",
        "    model_configs = get_model_configs()\n",
        "\n",
        "    for model_name, model in model_configs.items():\n",
        "        results[model_name] = train_single_model(\n",
        "            model, X_train, y_train, X_test, y_test, model_name\n",
        "        )\n",
        "\n",
        "    return results\n",
        "\n",
        "\n",
        "def print_results_summary(results: Dict[str, Dict[str, Any]]) -> None:\n",
        "    \"\"\"\n",
        "    Print a summary of all model results.\n",
        "\n",
        "    Args:\n",
        "        results: Dictionary containing results for each model\n",
        "    \"\"\"\n",
        "    print(\"\\n\" + \"=\"*60)\n",
        "    print(\"MODEL PERFORMANCE SUMMARY\")\n",
        "    print(\"=\"*60)\n",
        "\n",
        "    for model_name, metrics in results.items():\n",
        "        print(f\"\\n{model_name}:\")\n",
        "        print(f\"  Accuracy:  {metrics['accuracy']:.4f}\")\n",
        "        print(f\"  Precision: {metrics['precision']:.4f}\")\n",
        "        print(f\"  Recall:    {metrics['recall']:.4f}\")\n",
        "        print(f\"  F1-Score:  {metrics['f1_score']:.4f}\")\n",
        "\n",
        "results = train_statistical_approach(X_train_norm, y_train, X_test_norm, y_test)\n",
        "print_results_summary(results)"
      ],
      "metadata": {
        "colab": {
          "base_uri": "https://localhost:8080/"
        },
        "id": "3xui6Rrh2_4K",
        "outputId": "6a839fbd-2a2f-4553-a406-b10966775777"
      },
      "execution_count": 9,
      "outputs": [
        {
          "output_type": "stream",
          "name": "stdout",
          "text": [
            "\n",
            "Training Random Forest...\n",
            "\n",
            "Random Forest Confusion Matrix:\n",
            "[[78  0]\n",
            " [ 0 42]]\n",
            "Random Forest F1 score: 1.0000\n",
            "\n",
            "Training Logistic Regression...\n",
            "\n",
            "Logistic Regression Confusion Matrix:\n",
            "[[78  0]\n",
            " [ 0 42]]\n",
            "Logistic Regression F1 score: 1.0000\n",
            "\n",
            "============================================================\n",
            "MODEL PERFORMANCE SUMMARY\n",
            "============================================================\n",
            "\n",
            "Random Forest:\n",
            "  Accuracy:  1.0000\n",
            "  Precision: 1.0000\n",
            "  Recall:    1.0000\n",
            "  F1-Score:  1.0000\n",
            "\n",
            "Logistic Regression:\n",
            "  Accuracy:  1.0000\n",
            "  Precision: 1.0000\n",
            "  Recall:    1.0000\n",
            "  F1-Score:  1.0000\n"
          ]
        }
      ]
    },
    {
      "cell_type": "markdown",
      "source": [
        "For both models, results are pretty impressive: all test data is correctly categorized! We can try to see results for the validation data (which was not used to train or validate the models, so it can be used as a test set in practice):"
      ],
      "metadata": {
        "id": "dwxL-nlm2R0F"
      }
    },
    {
      "cell_type": "code",
      "source": [
        "lr_val = evaluate_model(results['Logistic Regression']['model'], X_val_norm, y_val, 'Logistic Regression')\n",
        "rf_val = evaluate_model(results['Random Forest']['model'], X_val_norm, y_val, 'Random Forest')"
      ],
      "metadata": {
        "colab": {
          "base_uri": "https://localhost:8080/"
        },
        "id": "wB_azbsuqDCk",
        "outputId": "5f5e3515-eb6e-49f0-d112-6275e6b45d79"
      },
      "execution_count": 10,
      "outputs": [
        {
          "output_type": "stream",
          "name": "stdout",
          "text": [
            "\n",
            "Logistic Regression Confusion Matrix:\n",
            "[[77  1]\n",
            " [ 0 42]]\n",
            "Logistic Regression F1 score: 0.9882\n",
            "\n",
            "Random Forest Confusion Matrix:\n",
            "[[78  0]\n",
            " [ 0 42]]\n",
            "Random Forest F1 score: 1.0000\n"
          ]
        }
      ]
    },
    {
      "cell_type": "markdown",
      "source": [
        "A single error for each model in the \"validation\" set, not bad again. My original idea was to use these models as a baseline and compare their results to models that can handle time-series data (such as LSTM or CNN), but it seems this will not be necessary."
      ],
      "metadata": {
        "id": "yznjXmotquyX"
      }
    },
    {
      "cell_type": "markdown",
      "source": [
        "#### Feature reduction\n",
        "\n",
        "Since the models are getting all test examples right, there's nowhere to go in terms of model performance -- but there can be room for simplifying the model. One way of doing this for logistic regression is using L1 rather than L2 penalty:"
      ],
      "metadata": {
        "id": "O2NawsPO3kh-"
      }
    },
    {
      "cell_type": "code",
      "source": [
        "model = LogisticRegression(\n",
        "    random_state=42,\n",
        "    class_weight='balanced',\n",
        "    max_iter=1000,\n",
        "    penalty='l1',\n",
        "    solver='liblinear'\n",
        ")\n",
        "\n",
        "results['Logistic Regression L1'] = train_single_model(\n",
        "    model, X_train_norm, y_train, X_test_norm, y_test, 'Logistic Regression L1'\n",
        ")\n",
        "\n",
        "l1_coefs = results['Logistic Regression L1']['model'].coef_[0]\n",
        "\n",
        "n_features = len(l1_coefs)\n",
        "n_selected_features = (l1_coefs != 0).sum()\n",
        "print(f'{n_selected_features} of {n_features} features selected by L1 penalty in Logistic Regression.')"
      ],
      "metadata": {
        "colab": {
          "base_uri": "https://localhost:8080/"
        },
        "id": "mhhV0ikM5b94",
        "outputId": "8e47f462-45de-4229-e4f7-7ea645b1e1d3"
      },
      "execution_count": 11,
      "outputs": [
        {
          "output_type": "stream",
          "name": "stdout",
          "text": [
            "\n",
            "Training Logistic Regression L1...\n",
            "\n",
            "Logistic Regression L1 Confusion Matrix:\n",
            "[[78  0]\n",
            " [ 1 41]]\n",
            "Logistic Regression L1 F1 score: 0.9880\n",
            "25 of 1008 features selected by L1 penalty in Logistic Regression.\n"
          ]
        }
      ]
    },
    {
      "cell_type": "markdown",
      "source": [
        "This change allows us to significantly simplify our model, using 25 rather than 1008 features, with similar performance as the logistic regression model with L2 penalty. We can plot the absolute coefficient values to get a sense of which features matter for this model:"
      ],
      "metadata": {
        "id": "yrS5KP-G6Q7X"
      }
    },
    {
      "cell_type": "code",
      "source": [
        "s_coefs = pd.Series(l1_coefs, index=X_train.columns, name='Coefficient')\n",
        "s_coefs = s_coefs[s_coefs!=0]\n",
        "s_coefs.abs().sort_values(ascending=False).plot(\n",
        "    kind='bar',\n",
        "    title='Absolute coefficients (Logistic Regression with L1 penalty)');"
      ],
      "metadata": {
        "colab": {
          "base_uri": "https://localhost:8080/",
          "height": 777
        },
        "id": "8rvtfDFmQU2P",
        "outputId": "ae3f1729-a7b4-4317-d1c4-b4ff0bf7c9f8"
      },
      "execution_count": 12,
      "outputs": [
        {
          "output_type": "display_data",
          "data": {
            "text/plain": [
              "<Figure size 640x480 with 1 Axes>"
            ],
            "image/png": "[encoded data removed]"
          },
          "metadata": {}
        }
      ]
    },
    {
      "cell_type": "markdown",
      "source": [
        "Some highlights:\n",
        "\n",
        "* 8 out of 25 features (32%) are from the ankles sensors.\n",
        "* 14 out of 25 features (56%) are acceleration measures.\n",
        "* 14 out of 25 features (56%) are from measures along the X-axis.\n",
        "* The 8 most important features come from the ankles, sternum, and waist sensors."
      ],
      "metadata": {
        "id": "bNLMblJ8S_3W"
      }
    }
  ]
}